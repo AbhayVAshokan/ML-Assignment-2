{
  "nbformat": 4,
  "nbformat_minor": 0,
  "metadata": {
    "colab": {
      "name": "K Nearest Neighbours.ipynb",
      "provenance": [],
      "collapsed_sections": [],
      "toc_visible": true
    },
    "kernelspec": {
      "name": "python3",
      "display_name": "Python 3"
    }
  },
  "cells": [
    {
      "cell_type": "code",
      "metadata": {
        "id": "5Jznj8Ypxje5"
      },
      "source": [
        "# Importing necessary libraries\n",
        " \n",
        "import numpy as np\n",
        "import pandas as pd\n",
        " \n",
        "from sklearn.model_selection import train_test_split\n",
        " \n",
        "from sklearn.metrics import confusion_matrix\n",
        "from sklearn.metrics import precision_score\n",
        "from sklearn.metrics import recall_score\n",
        "from sklearn.metrics import f1_score\n",
        " \n",
        "from sklearn.preprocessing import StandardScaler\n",
        "from sklearn.preprocessing import LabelEncoder\n",
        "from sklearn.neighbors import KNeighborsClassifier"
      ],
      "execution_count": 38,
      "outputs": []
    },
    {
      "cell_type": "markdown",
      "metadata": {
        "id": "GzDeaaCc4yF-"
      },
      "source": [
        "#Reading dataset and preprocessing\n",
        "Displaying the first few values and split the dataset into dependent and independent variables.\n",
        "\n",
        "Converts labels(male/female) into numerical form\n",
        "\n",
        "y values is the age. it is old(1) if age greater than 9, else young(0)"
      ]
    },
    {
      "cell_type": "code",
      "metadata": {
        "colab": {
          "base_uri": "https://localhost:8080/"
        },
        "id": "OxAtHbBJx3iq",
        "outputId": "15bd6c26-2f38-40da-902d-c61d08700c0f"
      },
      "source": [
        "dataset = pd.read_csv('/content/abalone.csv')\n",
        "print(dataset.head())\n",
        "print(dataset.describe())\n",
        "\n",
        "le = LabelEncoder()\n",
        "dataset['sex'] = le.fit_transform(dataset['sex'])\n",
        "\n",
        "X = dataset.iloc[:,:8].values\n",
        "y = dataset.iloc[:,8].values\n",
        "y = [1 if i>=9 else 0 for i in y]"
      ],
      "execution_count": 39,
      "outputs": [
        {
          "output_type": "stream",
          "text": [
            "  sex  length  diameter  ...  viscera weight  shell weight  rings\n",
            "0   M   0.455     0.365  ...          0.1010         0.150     15\n",
            "1   M   0.350     0.265  ...          0.0485         0.070      7\n",
            "2   F   0.530     0.420  ...          0.1415         0.210      9\n",
            "3   M   0.440     0.365  ...          0.1140         0.155     10\n",
            "4   I   0.330     0.255  ...          0.0395         0.055      7\n",
            "\n",
            "[5 rows x 9 columns]\n",
            "            length     diameter  ...  shell weight        rings\n",
            "count  4177.000000  4177.000000  ...   4177.000000  4177.000000\n",
            "mean      0.523992     0.407881  ...      0.238831     9.933684\n",
            "std       0.120093     0.099240  ...      0.139203     3.224169\n",
            "min       0.075000     0.055000  ...      0.001500     1.000000\n",
            "25%       0.450000     0.350000  ...      0.130000     8.000000\n",
            "50%       0.545000     0.425000  ...      0.234000     9.000000\n",
            "75%       0.615000     0.480000  ...      0.329000    11.000000\n",
            "max       0.815000     0.650000  ...      1.005000    29.000000\n",
            "\n",
            "[8 rows x 8 columns]\n"
          ],
          "name": "stdout"
        }
      ]
    },
    {
      "cell_type": "markdown",
      "metadata": {
        "id": "2KXtC-7I5Osh"
      },
      "source": [
        "Split the variables into training and test sets.\n",
        "\n",
        "X values are independent variables and y values are the values to be predicted."
      ]
    },
    {
      "cell_type": "code",
      "metadata": {
        "id": "G-nb040XyCdF"
      },
      "source": [
        "X_train, X_test, y_train, y_test = train_test_split(X, y, test_size = 0.25, random_state = 0)"
      ],
      "execution_count": 40,
      "outputs": []
    },
    {
      "cell_type": "markdown",
      "metadata": {
        "id": "saTMvnBt51hW"
      },
      "source": [
        "#Preprocessing Step\n",
        "\n",
        "Normalising X values to be centered at 0."
      ]
    },
    {
      "cell_type": "code",
      "metadata": {
        "id": "DuFNZniG53RO"
      },
      "source": [
        "sc = StandardScaler()\n",
        "X_train = sc.fit_transform(X_train)\n",
        "X_test = sc.transform(X_test)"
      ],
      "execution_count": 41,
      "outputs": []
    },
    {
      "cell_type": "markdown",
      "metadata": {
        "id": "b3JOw1F96KUv"
      },
      "source": [
        "#Training and predicting\n",
        "Training the dataset using a K Nearest Neighbours model with 5 neighbours and using Euclidean distance as measure.\n",
        "\n",
        "Run model on the test set"
      ]
    },
    {
      "cell_type": "code",
      "metadata": {
        "id": "icowAdl8yfTy"
      },
      "source": [
        "knn_mod = KNeighborsClassifier(n_neighbors = 61, metric = 'minkowski', p = 2)\n",
        "knn_mod.fit(X_train, y_train)\n",
        "\n",
        "y_pred = knn_mod.predict(X_test)"
      ],
      "execution_count": 42,
      "outputs": []
    },
    {
      "cell_type": "markdown",
      "metadata": {
        "id": "QtSMFhk56n-A"
      },
      "source": [
        "#Evaluation Metrics\n",
        "**Confusion matrix**\n",
        "\n",
        "||Predicted 0|Predicted 1|\n",
        "|---|---|---|\n",
        "|Actual 0|TN|FP|\n",
        "|Actual 1|FN|TP|\n",
        "\n",
        "**Precision, Recall and f1-score**\n",
        "\n",
        "$Precision = \\frac{TP}{TP+FP}$\n",
        "\n",
        "$Recall = \\frac{TN}{TN+FP}$\n",
        "\n",
        "$f1-score = \\frac{2*precision*recall}{precision+recall}$"
      ]
    },
    {
      "cell_type": "code",
      "metadata": {
        "colab": {
          "base_uri": "https://localhost:8080/"
        },
        "id": "xL4mP8KJy9bK",
        "outputId": "559a70ca-dd8b-48c1-8a44-29cbf9f15495"
      },
      "source": [
        "print('Confusion Matrix')\n",
        "print(confusion_matrix(y_test, y_pred))\n",
        "\n",
        "print('\\nPrecision')\n",
        "print(precision_score(y_test, y_pred))\n",
        "print('\\nRecall')\n",
        "print(recall_score(y_test, y_pred))\n",
        "print('\\nf1-score')\n",
        "print(f1_score(y_test, y_pred))"
      ],
      "execution_count": 43,
      "outputs": [
        {
          "output_type": "stream",
          "text": [
            "Confusion Matrix\n",
            "[[260 116]\n",
            " [ 48 621]]\n",
            "\n",
            "Precision\n",
            "0.8426051560379919\n",
            "\n",
            "Recall\n",
            "0.9282511210762332\n",
            "\n",
            "f1-score\n",
            "0.8833570412517782\n"
          ],
          "name": "stdout"
        }
      ]
    }
  ]
}